{
 "cells": [
  {
   "cell_type": "code",
   "execution_count": 31,
   "id": "7c6d9250",
   "metadata": {},
   "outputs": [],
   "source": [
    "import numpy as np\n",
    "import pandas as pd\n",
    "import pymongo\n",
    "import seaborn as sns\n",
    "from sklearn.manifold import TSNE\n",
    "import nltk\n",
    "from nltk.corpus import stopwords\n",
    "import seaborn as sns\n",
    "from sklearn.metrics import log_loss\n",
    "from bson.objectid import ObjectId\n",
    "from sklearn.metrics import normalized_mutual_info_score"
   ]
  },
  {
   "cell_type": "code",
   "execution_count": 2,
   "id": "eb9a1d93",
   "metadata": {},
   "outputs": [],
   "source": [
    "myclient = pymongo.MongoClient(\"mongodb://localhost:27017/\")"
   ]
  },
  {
   "cell_type": "code",
   "execution_count": 3,
   "id": "e56bf1b6",
   "metadata": {},
   "outputs": [],
   "source": [
    "y_train_db = myclient[\"bibtex_train\"][\"labels\"]"
   ]
  },
  {
   "cell_type": "code",
   "execution_count": 10,
   "id": "e9f92003",
   "metadata": {},
   "outputs": [],
   "source": [
    "filter_result = myclient[\"bibtex_train\"][\"graph_filters\"].find_one({\"_id\": ObjectId(\"61da3da5ebc2a6deb98e30d2\") })"
   ]
  },
  {
   "cell_type": "code",
   "execution_count": 13,
   "id": "2a21037d",
   "metadata": {},
   "outputs": [],
   "source": [
    "points = filter_result[\"points\"]"
   ]
  },
  {
   "cell_type": "code",
   "execution_count": 33,
   "id": "aff52580",
   "metadata": {},
   "outputs": [],
   "source": [
    "all_labels_doc =  y_train_db.find({})\n",
    "all_labels = [ doc for doc in all_labels_doc ]"
   ]
  },
  {
   "cell_type": "code",
   "execution_count": 40,
   "id": "73f48fb1",
   "metadata": {},
   "outputs": [],
   "source": [
    "all_labels_index = [ x[\"_id\"] for x in all_labels ]\n",
    "y_df = pd.DataFrame(all_labels,index=all_labels_index)"
   ]
  },
  {
   "cell_type": "code",
   "execution_count": 49,
   "id": "fc367a40",
   "metadata": {},
   "outputs": [],
   "source": [
    "group = y_df[\"_id\"].apply(lambda x: 1 if x in set(points) else 0).to_numpy()"
   ]
  },
  {
   "cell_type": "code",
   "execution_count": 55,
   "id": "f23ef294",
   "metadata": {},
   "outputs": [],
   "source": [
    "mutual_information_dict = {}\n",
    "for tag in y_df.drop(columns=\"_id\").columns:\n",
    "    mutual_information_dict[tag] = normalized_mutual_info_score(y_df[tag].to_numpy(),group)"
   ]
  },
  {
   "cell_type": "code",
   "execution_count": 63,
   "id": "f9c39f8a",
   "metadata": {},
   "outputs": [
    {
     "data": {
      "text/plain": [
       "[('TAG_statphys23', 0.04454695578495755),\n",
       " ('TAG_dynamics', 0.02096681252812349),\n",
       " ('TAG_topic8', 0.01989310137755375)]"
      ]
     },
     "execution_count": 63,
     "metadata": {},
     "output_type": "execute_result"
    }
   ],
   "source": [
    "sorted(mutual_information_dict.items(), key=lambda x:x[1], reverse=True)[:3]"
   ]
  },
  {
   "cell_type": "code",
   "execution_count": null,
   "id": "b7aa2366",
   "metadata": {},
   "outputs": [],
   "source": [
    "sorted(my_dict, key=my_dict.get, reverse=True)[:3]"
   ]
  }
 ],
 "metadata": {
  "kernelspec": {
   "display_name": "Python 3 (ipykernel)",
   "language": "python",
   "name": "python3"
  },
  "language_info": {
   "codemirror_mode": {
    "name": "ipython",
    "version": 3
   },
   "file_extension": ".py",
   "mimetype": "text/x-python",
   "name": "python",
   "nbconvert_exporter": "python",
   "pygments_lexer": "ipython3",
   "version": "3.8.9"
  }
 },
 "nbformat": 4,
 "nbformat_minor": 5
}
