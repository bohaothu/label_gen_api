{
 "cells": [
  {
   "cell_type": "code",
   "execution_count": 1,
   "id": "ccec0d20",
   "metadata": {},
   "outputs": [],
   "source": [
    "import numpy as np\n",
    "import pandas as pd\n",
    "import pymongo\n",
    "import os\n",
    "import pickle\n",
    "import uuid\n",
    "import ujson\n",
    "from sklearn.manifold import TSNE"
   ]
  },
  {
   "cell_type": "code",
   "execution_count": 2,
   "id": "d52a7d29",
   "metadata": {},
   "outputs": [],
   "source": [
    "myclient = pymongo.MongoClient(\"mongodb://localhost:27017/\")"
   ]
  },
  {
   "cell_type": "code",
   "execution_count": 3,
   "id": "a14953e3",
   "metadata": {},
   "outputs": [],
   "source": [
    "dataset_directory=os.path.join(\"..\",\"dataset\",\"v2\")\n",
    "def shortid(num):\n",
    "    return [str(uuid.uuid4())[:8] for i in range(num)]\n",
    "def label_encode(string):\n",
    "    return string.replace(\"\\\\'\",\".\").replace(\" \",\"_\")"
   ]
  },
  {
   "cell_type": "code",
   "execution_count": 4,
   "id": "5a544123",
   "metadata": {},
   "outputs": [],
   "source": [
    "def dataset_to_mongodb(dataset_name, dataset_type):\n",
    "    collection_name = dataset_name + \"_\" + dataset_type\n",
    "\n",
    "    # open file\n",
    "    with open(os.path.join(dataset_directory, dataset_name, dataset_type + \".pickle\"), 'rb') as f:\n",
    "        X_train, y_train, feature_names, label_names = pickle.load(f)\n",
    "\n",
    "    # assign ids\n",
    "    index=shortid(X_train.shape[0])\n",
    "\n",
    "    # insert feature data\n",
    "    X_train=pd.DataFrame(X_train.todense(),columns=[feature_names[x][0] for x in range(X_train.shape[1])],index=index)\n",
    "    X_train[\"_id\"]=index\n",
    "    myclient[collection_name][\"features\"].insert_many(X_train.to_dict('records'))\n",
    "\n",
    "    # insert label data\n",
    "    y_train=pd.DataFrame(y_train.todense(),columns=[label_encode(label_names[x][0]) for x in range(y_train.shape[1])],index=index)\n",
    "    y_train[\"_id\"]=index\n",
    "    myclient[collection_name][\"labels\"].insert_many(y_train.to_dict('records'))\n",
    "\n",
    "    # insert feature tsne\n",
    "    t_sne = TSNE()\n",
    "    t_sne.fit(X_train.drop(\"_id\",axis=1))\n",
    "    t_sne_df = pd.DataFrame(t_sne.embedding_, columns=[\"v1\",\"v2\"], index=index)\n",
    "    t_sne_df[\"_id\"]=index\n",
    "    myclient[collection_name][\"tsne_features\"].insert_many(t_sne_df.to_dict('records'))\n",
    "\n",
    "    # insert label tsne\n",
    "    t_sne = TSNE()\n",
    "    t_sne.fit(y_train.drop(\"_id\",axis=1))\n",
    "    t_sne_df = pd.DataFrame(t_sne.embedding_, columns=[\"v1\",\"v2\"], index=index)\n",
    "    t_sne_df[\"_id\"]=index\n",
    "    myclient[collection_name][\"tsne_labels\"].insert_many(t_sne_df.to_dict('records'))\n",
    "    \n",
    "    # insert feature combination tsne\n",
    "    t_sne = TSNE()\n",
    "    y_unique = np.unique(y_train.drop(\"_id\",axis=1).to_numpy().astype(int),axis=0)\n",
    "    t_sne.fit(y_unique)\n",
    "    t_sne_df = pd.DataFrame(t_sne.embedding_, columns=[\"v1\",\"v2\"])\n",
    "    member_list = [list(y_train.index[y_train.drop(\"_id\",axis=1)\n",
    "                                              .apply(lambda x: np.array_equal(np.array(x.values).astype(int),row),axis=1)]) for row in y_unique]\n",
    "    t_sne_df[\"_member\"] = member_list\n",
    "    myclient[collection_name][\"tsne_labels_combination\"].insert_many(t_sne_df.to_dict('records'))"
   ]
  },
  {
   "cell_type": "code",
   "execution_count": 5,
   "id": "c2d2a1fa",
   "metadata": {},
   "outputs": [],
   "source": [
    "def label_to_mongodb(dataset_name):\n",
    "    with open(os.path.join(dataset_directory, dataset_name, \"train.pickle\"), 'rb') as f:\n",
    "        X_train, y_train, feature_names, label_names = pickle.load(f)\n",
    "        \n",
    "    z=[]\n",
    "    \n",
    "    for item in label_names:\n",
    "        z.append(label_encode(item[0]))\n",
    "        \n",
    "    print(z)\n",
    "        \n",
    "    myclient[\"config\"][\"avaliable_dataset\"].insert_one({\"dataset_name\": dataset_name,\"label_names\": z})"
   ]
  },
  {
   "cell_type": "code",
   "execution_count": 9,
   "id": "198d1729",
   "metadata": {},
   "outputs": [
    {
     "name": "stderr",
     "output_type": "stream",
     "text": [
      "/Users/phlin/Library/Python/3.8/lib/python/site-packages/sklearn/manifold/_t_sne.py:780: FutureWarning: The default initialization in TSNE will change from 'random' to 'pca' in 1.2.\n",
      "  warnings.warn(\n",
      "/Users/phlin/Library/Python/3.8/lib/python/site-packages/sklearn/manifold/_t_sne.py:790: FutureWarning: The default learning rate in TSNE will change from 200.0 to 'auto' in 1.2.\n",
      "  warnings.warn(\n",
      "/Users/phlin/Library/Python/3.8/lib/python/site-packages/sklearn/manifold/_t_sne.py:780: FutureWarning: The default initialization in TSNE will change from 'random' to 'pca' in 1.2.\n",
      "  warnings.warn(\n",
      "/Users/phlin/Library/Python/3.8/lib/python/site-packages/sklearn/manifold/_t_sne.py:790: FutureWarning: The default learning rate in TSNE will change from 200.0 to 'auto' in 1.2.\n",
      "  warnings.warn(\n",
      "/Users/phlin/Library/Python/3.8/lib/python/site-packages/sklearn/manifold/_t_sne.py:780: FutureWarning: The default initialization in TSNE will change from 'random' to 'pca' in 1.2.\n",
      "  warnings.warn(\n",
      "/Users/phlin/Library/Python/3.8/lib/python/site-packages/sklearn/manifold/_t_sne.py:790: FutureWarning: The default learning rate in TSNE will change from 200.0 to 'auto' in 1.2.\n",
      "  warnings.warn(\n",
      "/Users/phlin/Library/Python/3.8/lib/python/site-packages/sklearn/manifold/_t_sne.py:780: FutureWarning: The default initialization in TSNE will change from 'random' to 'pca' in 1.2.\n",
      "  warnings.warn(\n",
      "/Users/phlin/Library/Python/3.8/lib/python/site-packages/sklearn/manifold/_t_sne.py:790: FutureWarning: The default learning rate in TSNE will change from 200.0 to 'auto' in 1.2.\n",
      "  warnings.warn(\n",
      "/Users/phlin/Library/Python/3.8/lib/python/site-packages/sklearn/manifold/_t_sne.py:780: FutureWarning: The default initialization in TSNE will change from 'random' to 'pca' in 1.2.\n",
      "  warnings.warn(\n",
      "/Users/phlin/Library/Python/3.8/lib/python/site-packages/sklearn/manifold/_t_sne.py:790: FutureWarning: The default learning rate in TSNE will change from 200.0 to 'auto' in 1.2.\n",
      "  warnings.warn(\n",
      "/Users/phlin/Library/Python/3.8/lib/python/site-packages/sklearn/manifold/_t_sne.py:780: FutureWarning: The default initialization in TSNE will change from 'random' to 'pca' in 1.2.\n",
      "  warnings.warn(\n",
      "/Users/phlin/Library/Python/3.8/lib/python/site-packages/sklearn/manifold/_t_sne.py:790: FutureWarning: The default learning rate in TSNE will change from 200.0 to 'auto' in 1.2.\n",
      "  warnings.warn(\n"
     ]
    }
   ],
   "source": [
    "dataset_to_mongodb(\"bibtex\",\"train\")\n",
    "dataset_to_mongodb(\"bibtex\",\"test\")"
   ]
  },
  {
   "cell_type": "code",
   "execution_count": 6,
   "id": "8abc26ae",
   "metadata": {},
   "outputs": [
    {
     "name": "stderr",
     "output_type": "stream",
     "text": [
      "/Users/phlin/Library/Python/3.8/lib/python/site-packages/sklearn/manifold/_t_sne.py:780: FutureWarning: The default initialization in TSNE will change from 'random' to 'pca' in 1.2.\n",
      "  warnings.warn(\n",
      "/Users/phlin/Library/Python/3.8/lib/python/site-packages/sklearn/manifold/_t_sne.py:790: FutureWarning: The default learning rate in TSNE will change from 200.0 to 'auto' in 1.2.\n",
      "  warnings.warn(\n",
      "/Users/phlin/Library/Python/3.8/lib/python/site-packages/sklearn/manifold/_t_sne.py:780: FutureWarning: The default initialization in TSNE will change from 'random' to 'pca' in 1.2.\n",
      "  warnings.warn(\n",
      "/Users/phlin/Library/Python/3.8/lib/python/site-packages/sklearn/manifold/_t_sne.py:790: FutureWarning: The default learning rate in TSNE will change from 200.0 to 'auto' in 1.2.\n",
      "  warnings.warn(\n",
      "/Users/phlin/Library/Python/3.8/lib/python/site-packages/sklearn/manifold/_t_sne.py:780: FutureWarning: The default initialization in TSNE will change from 'random' to 'pca' in 1.2.\n",
      "  warnings.warn(\n",
      "/Users/phlin/Library/Python/3.8/lib/python/site-packages/sklearn/manifold/_t_sne.py:790: FutureWarning: The default learning rate in TSNE will change from 200.0 to 'auto' in 1.2.\n",
      "  warnings.warn(\n",
      "/Users/phlin/Library/Python/3.8/lib/python/site-packages/sklearn/manifold/_t_sne.py:780: FutureWarning: The default initialization in TSNE will change from 'random' to 'pca' in 1.2.\n",
      "  warnings.warn(\n",
      "/Users/phlin/Library/Python/3.8/lib/python/site-packages/sklearn/manifold/_t_sne.py:790: FutureWarning: The default learning rate in TSNE will change from 200.0 to 'auto' in 1.2.\n",
      "  warnings.warn(\n",
      "/Users/phlin/Library/Python/3.8/lib/python/site-packages/sklearn/manifold/_t_sne.py:780: FutureWarning: The default initialization in TSNE will change from 'random' to 'pca' in 1.2.\n",
      "  warnings.warn(\n",
      "/Users/phlin/Library/Python/3.8/lib/python/site-packages/sklearn/manifold/_t_sne.py:790: FutureWarning: The default learning rate in TSNE will change from 200.0 to 'auto' in 1.2.\n",
      "  warnings.warn(\n",
      "/Users/phlin/Library/Python/3.8/lib/python/site-packages/sklearn/manifold/_t_sne.py:780: FutureWarning: The default initialization in TSNE will change from 'random' to 'pca' in 1.2.\n",
      "  warnings.warn(\n",
      "/Users/phlin/Library/Python/3.8/lib/python/site-packages/sklearn/manifold/_t_sne.py:790: FutureWarning: The default learning rate in TSNE will change from 200.0 to 'auto' in 1.2.\n",
      "  warnings.warn(\n"
     ]
    }
   ],
   "source": [
    "dataset_to_mongodb(\"emotions\",\"train\")\n",
    "dataset_to_mongodb(\"emotions\",\"test\")"
   ]
  },
  {
   "cell_type": "code",
   "execution_count": 7,
   "id": "c896bfb1",
   "metadata": {},
   "outputs": [
    {
     "name": "stdout",
     "output_type": "stream",
     "text": [
      "['amazed-suprised', 'happy-pleased', 'relaxing-calm', 'quiet-still', 'sad-lonely', 'angry-aggresive']\n"
     ]
    }
   ],
   "source": [
    "label_to_mongodb(\"emotions\")"
   ]
  },
  {
   "cell_type": "code",
   "execution_count": 41,
   "id": "dd659737",
   "metadata": {},
   "outputs": [
    {
     "name": "stdout",
     "output_type": "stream",
     "text": [
      "['TAG_2005', 'TAG_2006', 'TAG_2007', 'TAG_agdetection', 'TAG_algorithms', 'TAG_amperometry', 'TAG_analysis', 'TAG_and', 'TAG_annotation', 'TAG_antibody', 'TAG_apob', 'TAG_architecture', 'TAG_article', 'TAG_bettasplendens', 'TAG_bibteximport', 'TAG_book', 'TAG_children', 'TAG_classification', 'TAG_clustering', 'TAG_cognition', 'TAG_collaboration', 'TAG_collaborative', 'TAG_community', 'TAG_competition', 'TAG_complex', 'TAG_complexity', 'TAG_compounds', 'TAG_computer', 'TAG_computing', 'TAG_concept', 'TAG_context', 'TAG_cortex', 'TAG_critical', 'TAG_data', 'TAG_datamining', 'TAG_date', 'TAG_design', 'TAG_development', 'TAG_diffusion', 'TAG_diplomathesis', 'TAG_disability', 'TAG_dynamics', 'TAG_education', 'TAG_elearning', 'TAG_electrochemistry', 'TAG_elisa', 'TAG_empirical', 'TAG_energy', 'TAG_engineering', 'TAG_epitope', 'TAG_equation', 'TAG_evaluation', 'TAG_evolution', 'TAG_fca', 'TAG_folksonomy', 'TAG_formal', 'TAG_fornepomuk', 'TAG_games', 'TAG_granular', 'TAG_graph', 'TAG_hci', 'TAG_homogeneous', 'TAG_imaging', 'TAG_immunoassay', 'TAG_immunoelectrode', 'TAG_immunosensor', 'TAG_information', 'TAG_informationretrieval', 'TAG_kaldesignresearch', 'TAG_kinetic', 'TAG_knowledge', 'TAG_knowledgemanagement', 'TAG_langen', 'TAG_language', 'TAG_ldl', 'TAG_learning', 'TAG_liposome', 'TAG_litreview', 'TAG_logic', 'TAG_maintenance', 'TAG_management', 'TAG_mapping', 'TAG_marotzkiwinfried', 'TAG_mathematics', 'TAG_mathgamespatterns', 'TAG_methodology', 'TAG_metrics', 'TAG_mining', 'TAG_model', 'TAG_modeling', 'TAG_models', 'TAG_molecular', 'TAG_montecarlo', 'TAG_myown', 'TAG_narrative', 'TAG_nepomuk', 'TAG_network', 'TAG_networks', 'TAG_nlp', 'TAG_nonequilibrium', 'TAG_notag', 'TAG_objectoriented', 'TAG_of', 'TAG_ontologies', 'TAG_ontology', 'TAG_pattern', 'TAG_patterns', 'TAG_phase', 'TAG_physics', 'TAG_process', 'TAG_programming', 'TAG_prolearn', 'TAG_psycholinguistics', 'TAG_quantum', 'TAG_random', 'TAG_rdf', 'TAG_representation', 'TAG_requirements', 'TAG_research', 'TAG_review', 'TAG_science', 'TAG_search', 'TAG_semantic', 'TAG_semantics', 'TAG_semanticweb', 'TAG_sequence', 'TAG_simulation', 'TAG_simulations', 'TAG_sna', 'TAG_social', 'TAG_socialnets', 'TAG_software', 'TAG_spin', 'TAG_statistics', 'TAG_statphys23', 'TAG_structure', 'TAG_survey', 'TAG_system', 'TAG_systems', 'TAG_tagging', 'TAG_technology', 'TAG_theory', 'TAG_topic1', 'TAG_topic10', 'TAG_topic11', 'TAG_topic2', 'TAG_topic3', 'TAG_topic4', 'TAG_topic6', 'TAG_topic7', 'TAG_topic8', 'TAG_topic9', 'TAG_toread', 'TAG_transition', 'TAG_visual', 'TAG_visualization', 'TAG_web', 'TAG_web20', 'TAG_wiki']\n"
     ]
    }
   ],
   "source": [
    "label_to_mongodb(\"bibtex\")"
   ]
  },
  {
   "cell_type": "code",
   "execution_count": 8,
   "id": "01d8b97b",
   "metadata": {},
   "outputs": [
    {
     "name": "stderr",
     "output_type": "stream",
     "text": [
      "/Users/phlin/Library/Python/3.8/lib/python/site-packages/sklearn/manifold/_t_sne.py:780: FutureWarning: The default initialization in TSNE will change from 'random' to 'pca' in 1.2.\n",
      "  warnings.warn(\n",
      "/Users/phlin/Library/Python/3.8/lib/python/site-packages/sklearn/manifold/_t_sne.py:790: FutureWarning: The default learning rate in TSNE will change from 200.0 to 'auto' in 1.2.\n",
      "  warnings.warn(\n",
      "/Users/phlin/Library/Python/3.8/lib/python/site-packages/sklearn/manifold/_t_sne.py:780: FutureWarning: The default initialization in TSNE will change from 'random' to 'pca' in 1.2.\n",
      "  warnings.warn(\n",
      "/Users/phlin/Library/Python/3.8/lib/python/site-packages/sklearn/manifold/_t_sne.py:790: FutureWarning: The default learning rate in TSNE will change from 200.0 to 'auto' in 1.2.\n",
      "  warnings.warn(\n",
      "/Users/phlin/Library/Python/3.8/lib/python/site-packages/sklearn/manifold/_t_sne.py:780: FutureWarning: The default initialization in TSNE will change from 'random' to 'pca' in 1.2.\n",
      "  warnings.warn(\n",
      "/Users/phlin/Library/Python/3.8/lib/python/site-packages/sklearn/manifold/_t_sne.py:790: FutureWarning: The default learning rate in TSNE will change from 200.0 to 'auto' in 1.2.\n",
      "  warnings.warn(\n",
      "/Users/phlin/Library/Python/3.8/lib/python/site-packages/sklearn/manifold/_t_sne.py:780: FutureWarning: The default initialization in TSNE will change from 'random' to 'pca' in 1.2.\n",
      "  warnings.warn(\n",
      "/Users/phlin/Library/Python/3.8/lib/python/site-packages/sklearn/manifold/_t_sne.py:790: FutureWarning: The default learning rate in TSNE will change from 200.0 to 'auto' in 1.2.\n",
      "  warnings.warn(\n",
      "/Users/phlin/Library/Python/3.8/lib/python/site-packages/sklearn/manifold/_t_sne.py:780: FutureWarning: The default initialization in TSNE will change from 'random' to 'pca' in 1.2.\n",
      "  warnings.warn(\n",
      "/Users/phlin/Library/Python/3.8/lib/python/site-packages/sklearn/manifold/_t_sne.py:790: FutureWarning: The default learning rate in TSNE will change from 200.0 to 'auto' in 1.2.\n",
      "  warnings.warn(\n",
      "/Users/phlin/Library/Python/3.8/lib/python/site-packages/sklearn/manifold/_t_sne.py:780: FutureWarning: The default initialization in TSNE will change from 'random' to 'pca' in 1.2.\n",
      "  warnings.warn(\n",
      "/Users/phlin/Library/Python/3.8/lib/python/site-packages/sklearn/manifold/_t_sne.py:790: FutureWarning: The default learning rate in TSNE will change from 200.0 to 'auto' in 1.2.\n",
      "  warnings.warn(\n"
     ]
    },
    {
     "name": "stdout",
     "output_type": "stream",
     "text": [
      "['TAG_.imported', 'TAG_.net', 'TAG_2.0', 'TAG_2007', 'TAG_3d', 'TAG_??', 'TAG_???', 'TAG_????', 'TAG_academia', 'TAG_academic', 'TAG_access', 'TAG_accessibility', 'TAG_accessories', 'TAG_accounts', 'TAG_actionscript', 'TAG_activism', 'TAG_ad', 'TAG_addon', 'TAG_addons', 'TAG_admin', 'TAG_administration', 'TAG_adobe', 'TAG_ads', 'TAG_adsense', 'TAG_adult', 'TAG_advertising', 'TAG_advice', 'TAG_affiliate', 'TAG_agencies', 'TAG_agency', 'TAG_aggregator', 'TAG_agile', 'TAG_ai', 'TAG_air', 'TAG_airfare', 'TAG_airline', 'TAG_airlines', 'TAG_ajax', 'TAG_album', 'TAG_algorithm', 'TAG_algorithms', 'TAG_alternative', 'TAG_amazing', 'TAG_amazon', 'TAG_america', 'TAG_analysis', 'TAG_analytics', 'TAG_angst', 'TAG_animals', 'TAG_animation', 'TAG_anime', 'TAG_anonymous', 'TAG_anthropology', 'TAG_apache', 'TAG_apartment', 'TAG_api', 'TAG_app', 'TAG_apparel', 'TAG_apple', 'TAG_application', 'TAG_applications', 'TAG_apps', 'TAG_architecture', 'TAG_archive', 'TAG_archives', 'TAG_art', 'TAG_arte', 'TAG_article', 'TAG_articles', 'TAG_artist', 'TAG_artists', 'TAG_arts', 'TAG_asp', 'TAG_asp.net', 'TAG_astronomy', 'TAG_atom', 'TAG_au', 'TAG_audio', 'TAG_authentication', 'TAG_auto', 'TAG_automation', 'TAG_awards', 'TAG_awesome', 'TAG_backup', 'TAG_bags', 'TAG_baking', 'TAG_bands', 'TAG_bandslash', 'TAG_bank', 'TAG_banking', 'TAG_bargains', 'TAG_bbc', 'TAG_beauty', 'TAG_best', 'TAG_beta', 'TAG_bills', 'TAG_biology', 'TAG_bit200w07', 'TAG_bittorrent', 'TAG_blog', 'TAG_blogger', 'TAG_blogging', 'TAG_blogs', 'TAG_bluetooth', 'TAG_book', 'TAG_bookmark', 'TAG_bookmarking', 'TAG_bookmarks', 'TAG_books', 'TAG_boot', 'TAG_brain', 'TAG_brand', 'TAG_branding', 'TAG_brasil', 'TAG_broadband', 'TAG_browser', 'TAG_browsers', 'TAG_brushes', 'TAG_budget', 'TAG_build', 'TAG_building', 'TAG_buscadores', 'TAG_business', 'TAG_button', 'TAG_buttons', 'TAG_buy', 'TAG_c', 'TAG_c#', 'TAG_c++', 'TAG_calculator', 'TAG_calendar', 'TAG_camera', 'TAG_cameras', 'TAG_canada', 'TAG_car', 'TAG_card', 'TAG_cards', 'TAG_career', 'TAG_careers', 'TAG_cars', 'TAG_cartoon', 'TAG_cartoons', 'TAG_catalog', 'TAG_cd', 'TAG_celebrity', 'TAG_cell', 'TAG_cellphone', 'TAG_charity', 'TAG_chart', 'TAG_charts', 'TAG_chat', 'TAG_cheap', 'TAG_cheatsheet', 'TAG_children', 'TAG_china', 'TAG_chinese', 'TAG_cinema', 'TAG_cities', 'TAG_city', 'TAG_clean', 'TAG_cli', 'TAG_client', 'TAG_climate', 'TAG_clipart', 'TAG_clothes', 'TAG_clothing', 'TAG_cms', 'TAG_cocoa', 'TAG_code', 'TAG_codec', 'TAG_coding', 'TAG_collaboration', 'TAG_collection', 'TAG_college', 'TAG_color', 'TAG_colors', 'TAG_colour', 'TAG_comedy', 'TAG_comic', 'TAG_comics', 'TAG_commands', 'TAG_commentary', 'TAG_communication', 'TAG_community', 'TAG_companies', 'TAG_company', 'TAG_compare', 'TAG_comparison', 'TAG_components', 'TAG_computer', 'TAG_computers', 'TAG_computing', 'TAG_conference', 'TAG_configuration', 'TAG_conservation', 'TAG_construction', 'TAG_consulting', 'TAG_consumer', 'TAG_content', 'TAG_control', 'TAG_conversion', 'TAG_convert', 'TAG_converter', 'TAG_cook', 'TAG_cooking', 'TAG_cool', 'TAG_copyright', 'TAG_course', 'TAG_courses', 'TAG_crack', 'TAG_crackfic', 'TAG_craft', 'TAG_crafts', 'TAG_crafty', 'TAG_creative', 'TAG_creativecommons', 'TAG_creativity', 'TAG_crypto', 'TAG_cryptography', 'TAG_cs', 'TAG_csharp', 'TAG_css', 'TAG_cuisine', 'TAG_culture', 'TAG_custom', 'TAG_cute', 'TAG_daily', 'TAG_data', 'TAG_database', 'TAG_databases', 'TAG_db', 'TAG_deals', 'TAG_debian', 'TAG_debug', 'TAG_debugging', 'TAG_decor', 'TAG_decorating', 'TAG_del.icio.us', 'TAG_delicious', 'TAG_deployment', 'TAG_design', 'TAG_designer', 'TAG_designers', 'TAG_desktop', 'TAG_deutsch', 'TAG_dev', 'TAG_developer', 'TAG_development', 'TAG_dhtml', 'TAG_dictionaries', 'TAG_dictionary', 'TAG_diet', 'TAG_digg', 'TAG_digital', 'TAG_directories', 'TAG_directory', 'TAG_discount', 'TAG_dise?o', 'TAG_dise\\\\~no', 'TAG_distributed', 'TAG_distribution', 'TAG_distro', 'TAG_divx', 'TAG_diy', 'TAG_dj', 'TAG_django', 'TAG_dns', 'TAG_doc', 'TAG_docs', 'TAG_document', 'TAG_documentary', 'TAG_documentation', 'TAG_dom', 'TAG_domain', 'TAG_dotnet', 'TAG_download', 'TAG_downloads', 'TAG_drawing', 'TAG_drivers', 'TAG_dvd', 'TAG_e-commerce', 'TAG_e-learning', 'TAG_e-mail', 'TAG_earth', 'TAG_earthside', 'TAG_ebook', 'TAG_ebooks', 'TAG_eclipse', 'TAG_eco', 'TAG_ecology', 'TAG_ecommerce', 'TAG_economics', 'TAG_economy', 'TAG_editing', 'TAG_editor', 'TAG_edtech', 'TAG_education', 'TAG_educational', 'TAG_effects', 'TAG_elearning', 'TAG_electronic', 'TAG_electronics', 'TAG_email', 'TAG_embedded', 'TAG_employment', 'TAG_emulation', 'TAG_emulator', 'TAG_encoding', 'TAG_encryption', 'TAG_encyclopedia', 'TAG_energy', 'TAG_engine', 'TAG_engineering', 'TAG_english', 'TAG_enterprise', 'TAG_entertainment', 'TAG_entrepreneur', 'TAG_entrepreneurship', 'TAG_environment', 'TAG_environmental', 'TAG_essay', 'TAG_essays', 'TAG_europe', 'TAG_events', 'TAG_evolution', 'TAG_example', 'TAG_examples', 'TAG_exercise', 'TAG_experimental', 'TAG_extension', 'TAG_extensions', 'TAG_family', 'TAG_fanfic', 'TAG_fanfiction', 'TAG_fantasy', 'TAG_faq', 'TAG_fashion', 'TAG_feed', 'TAG_feeds', 'TAG_fic', 'TAG_fiction', 'TAG_file', 'TAG_files', 'TAG_filesharing', 'TAG_filesystem', 'TAG_film', 'TAG_films', 'TAG_finance', 'TAG_finances', 'TAG_financial', 'TAG_firefox', 'TAG_firewall', 'TAG_first-time', 'TAG_firsttime', 'TAG_fitness', 'TAG_flash', 'TAG_flex', 'TAG_flickr', 'TAG_flight', 'TAG_flights', 'TAG_flv', 'TAG_fob', 'TAG_folksonomy', 'TAG_font', 'TAG_fonts', 'TAG_food', 'TAG_foodblog', 'TAG_foodblogs', 'TAG_form', 'TAG_forms', 'TAG_forum', 'TAG_forums', 'TAG_foto', 'TAG_fotografia', 'TAG_fotos', 'TAG_framework', 'TAG_frameworks', 'TAG_france', 'TAG_free', 'TAG_freedom', 'TAG_freelance', 'TAG_freeware', 'TAG_french', 'TAG_friday', 'TAG_friends', 'TAG_fuentes', 'TAG_fun', 'TAG_funny', 'TAG_furniture', 'TAG_future', 'TAG_gadget', 'TAG_gadgets', 'TAG_gallery', 'TAG_game', 'TAG_gamedev', 'TAG_games', 'TAG_gaming', 'TAG_gear', 'TAG_geek', 'TAG_gen', 'TAG_generator', 'TAG_geo', 'TAG_geography', 'TAG_geotagging', 'TAG_german', 'TAG_germany', 'TAG_gift', 'TAG_gifts', 'TAG_gis', 'TAG_global', 'TAG_gmail', 'TAG_gnome', 'TAG_gnu', 'TAG_google', 'TAG_googlemaps', 'TAG_gossip', 'TAG_government', 'TAG_gps', 'TAG_graffiti', 'TAG_grammar', 'TAG_graph', 'TAG_graphic', 'TAG_graphicdesign', 'TAG_graphics', 'TAG_graphs', 'TAG_gratis', 'TAG_greasemonkey', 'TAG_green', 'TAG_grid', 'TAG_gtd', 'TAG_gui', 'TAG_guide', 'TAG_guides', 'TAG_hack', 'TAG_hacking', 'TAG_hacks', 'TAG_hardware', 'TAG_health', 'TAG_help', 'TAG_het', 'TAG_history', 'TAG_holiday', 'TAG_home', 'TAG_homepage', 'TAG_hosting', 'TAG_hotel', 'TAG_hotels', 'TAG_house', 'TAG_household', 'TAG_housewares', 'TAG_housing', 'TAG_how-to', 'TAG_howto', 'TAG_hp', 'TAG_html', 'TAG_http', 'TAG_humor', 'TAG_humour', 'TAG_ia', 'TAG_icon', 'TAG_icons', 'TAG_ide', 'TAG_idea', 'TAG_ideas', 'TAG_identity', 'TAG_ie', 'TAG_illustration', 'TAG_illustrator', 'TAG_im', 'TAG_image', 'TAG_images', 'TAG_imported', 'TAG_independent', 'TAG_indie', 'TAG_industrial', 'TAG_info', 'TAG_information', 'TAG_innovation', 'TAG_inspiration', 'TAG_install', 'TAG_installation', 'TAG_intelligence', 'TAG_interaction', 'TAG_interactive', 'TAG_interesting', 'TAG_interface', 'TAG_interior', 'TAG_international', 'TAG_internet', 'TAG_interview', 'TAG_investing', 'TAG_investment', 'TAG_ip', 'TAG_ipod', 'TAG_iptv', 'TAG_it', 'TAG_itunes', 'TAG_j2ee', 'TAG_japan', 'TAG_japanese', 'TAG_java', 'TAG_javascript', 'TAG_jewelry', 'TAG_job', 'TAG_jobs', 'TAG_jobsearch', 'TAG_jogos', 'TAG_john/rodney', 'TAG_johnsheppard', 'TAG_journal', 'TAG_journalism', 'TAG_journals', 'TAG_js', 'TAG_juegos', 'TAG_keyboard', 'TAG_keywords', 'TAG_kids', 'TAG_kitchen', 'TAG_knowledge', 'TAG_language', 'TAG_languages', 'TAG_laptop', 'TAG_law', 'TAG_layout', 'TAG_leadership', 'TAG_learn', 'TAG_learning', 'TAG_legal', 'TAG_lessons', 'TAG_liberal', 'TAG_libraries', 'TAG_library', 'TAG_life', 'TAG_lifehack', 'TAG_lifehacker', 'TAG_lifehacks', 'TAG_lifestyle', 'TAG_lighting', 'TAG_linguistics', 'TAG_links', 'TAG_linux', 'TAG_list', 'TAG_lists', 'TAG_literature', 'TAG_live', 'TAG_living', 'TAG_local', 'TAG_location', 'TAG_logic', 'TAG_logo', 'TAG_logos', 'TAG_london', 'TAG_long', 'TAG_mac', 'TAG_macintosh', 'TAG_macosx', 'TAG_magazine', 'TAG_magazines', 'TAG_mail', 'TAG_make', 'TAG_management', 'TAG_manual', 'TAG_map', 'TAG_mapas', 'TAG_mapping', 'TAG_maps', 'TAG_market', 'TAG_marketing', 'TAG_mashup', 'TAG_mashups', 'TAG_math', 'TAG_mathematics', 'TAG_maths', 'TAG_mckay/sheppard', 'TAG_mcshep', 'TAG_media', 'TAG_medical', 'TAG_medicine', 'TAG_memory', 'TAG_menu', 'TAG_messaging', 'TAG_metadata', 'TAG_microsoft', 'TAG_mind', 'TAG_misc', 'TAG_mit', 'TAG_mmorpg', 'TAG_mobile', 'TAG_moda', 'TAG_modern', 'TAG_monday', 'TAG_money', 'TAG_monitor', 'TAG_monitoring', 'TAG_motion', 'TAG_motiongraphics', 'TAG_motivation', 'TAG_movie', 'TAG_movies', 'TAG_mozilla', 'TAG_mp3', 'TAG_mp3blog', 'TAG_mp3s', 'TAG_msdn', 'TAG_multimedia', 'TAG_museum', 'TAG_music', 'TAG_musica', 'TAG_musik', 'TAG_mvc', 'TAG_myspace', 'TAG_mysql', 'TAG_m.usica', 'TAG_nature', 'TAG_navigation', 'TAG_nc-17', 'TAG_nc17', 'TAG_network', 'TAG_networking', 'TAG_networks', 'TAG_new', 'TAG_news', 'TAG_newspaper', 'TAG_newspapers', 'TAG_newyork', 'TAG_nintendo', 'TAG_nokia', 'TAG_nonprofit', 'TAG_notes', 'TAG_nutrition', 'TAG_nyc', 'TAG_office', 'TAG_online', 'TAG_oop', 'TAG_open', 'TAG_open-source', 'TAG_opensource', 'TAG_opinion', 'TAG_optimization', 'TAG_organic', 'TAG_organization', 'TAG_os', 'TAG_oss', 'TAG_osx', 'TAG_p2p', 'TAG_painting', 'TAG_palm', 'TAG_paper', 'TAG_parody', 'TAG_pattern', 'TAG_patterns', 'TAG_pc', 'TAG_pda', 'TAG_pdf', 'TAG_people', 'TAG_performance', 'TAG_perl', 'TAG_personal', 'TAG_philosophy', 'TAG_phone', 'TAG_phones', 'TAG_photo', 'TAG_photographer', 'TAG_photographers', 'TAG_photography', 'TAG_photos', 'TAG_photoshop', 'TAG_php', 'TAG_physics', 'TAG_pics', 'TAG_picture', 'TAG_pictures', 'TAG_planning', 'TAG_player', 'TAG_plugin', 'TAG_plugins', 'TAG_pocketpc', 'TAG_podcast', 'TAG_podcasting', 'TAG_podcasts', 'TAG_policy', 'TAG_political', 'TAG_politics', 'TAG_porn', 'TAG_portable', 'TAG_portal', 'TAG_portfolio', 'TAG_portfolios', 'TAG_posters', 'TAG_power', 'TAG_ppc', 'TAG_presentation', 'TAG_presentations', 'TAG_print', 'TAG_printing', 'TAG_privacy', 'TAG_process', 'TAG_product', 'TAG_productivity', 'TAG_products', 'TAG_programming', 'TAG_progressive', 'TAG_project', 'TAG_projectmanagement', 'TAG_projects', 'TAG_propaganda', 'TAG_prototype', 'TAG_proxy', 'TAG_psychology', 'TAG_public', 'TAG_publishing', 'TAG_puzzle', 'TAG_puzzles', 'TAG_pvr', 'TAG_python', 'TAG_quiz', 'TAG_quotes', 'TAG_r', 'TAG_radio', 'TAG_rails', 'TAG_random', 'TAG_ranking', 'TAG_read', 'TAG_reader', 'TAG_reading', 'TAG_realestate', 'TAG_recipe', 'TAG_recipes', 'TAG_recommendations', 'TAG_recording', 'TAG_recovery', 'TAG_recs', 'TAG_recursos', 'TAG_reference', 'TAG_religion', 'TAG_remote', 'TAG_repair', 'TAG_repository', 'TAG_research', 'TAG_resource', 'TAG_resources', 'TAG_rest', 'TAG_restaurant', 'TAG_restaurants', 'TAG_retail', 'TAG_retro', 'TAG_review', 'TAG_reviews', 'TAG_rock', 'TAG_rodneymckay', 'TAG_ror', 'TAG_router', 'TAG_rpg', 'TAG_rps', 'TAG_rss', 'TAG_ruby', 'TAG_rubyonrails', 'TAG_safari', 'TAG_safari_export', 'TAG_sam/dean', 'TAG_satire', 'TAG_scalability', 'TAG_school', 'TAG_science', 'TAG_scifi', 'TAG_scm', 'TAG_screen', 'TAG_script', 'TAG_scripting', 'TAG_scripts', 'TAG_search', 'TAG_searchengine', 'TAG_searchengines', 'TAG_security', 'TAG_sem', 'TAG_seo', 'TAG_series', 'TAG_server', 'TAG_service', 'TAG_services', 'TAG_setup', 'TAG_sex', 'TAG_sf', 'TAG_sga', 'TAG_share', 'TAG_shareware', 'TAG_sharing', 'TAG_shell', 'TAG_sheppard/mckay', 'TAG_shirts', 'TAG_shoes', 'TAG_shop', 'TAG_shopping', 'TAG_shops', 'TAG_showcase', 'TAG_shows', 'TAG_simulation', 'TAG_site', 'TAG_skype', 'TAG_slash', 'TAG_slideshow', 'TAG_sms', 'TAG_sns', 'TAG_social', 'TAG_socialnetwork', 'TAG_socialnetworking', 'TAG_socialsoftware', 'TAG_society', 'TAG_sociology', 'TAG_software', 'TAG_solar', 'TAG_sound', 'TAG_source', 'TAG_space', 'TAG_spam', 'TAG_spanish', 'TAG_speed', 'TAG_spn', 'TAG_sport', 'TAG_sports', 'TAG_sql', 'TAG_ssh', 'TAG_standards', 'TAG_startup', 'TAG_stationery', 'TAG_statistics', 'TAG_stats', 'TAG_stock', 'TAG_stocks', 'TAG_storage', 'TAG_store', 'TAG_stores', 'TAG_strategy', 'TAG_stream', 'TAG_streaming', 'TAG_street', 'TAG_studio', 'TAG_study', 'TAG_stuff', 'TAG_style', 'TAG_subversion', 'TAG_sun', 'TAG_supernatural', 'TAG_support', 'TAG_sustainability', 'TAG_sustainable', 'TAG_svn', 'TAG_sync', 'TAG_syndication', 'TAG_sysadmin', 'TAG_system', 'TAG_t-shirt', 'TAG_t-shirts', 'TAG_tag', 'TAG_tagging', 'TAG_tags', 'TAG_tdd', 'TAG_teaching', 'TAG_tech', 'TAG_technique', 'TAG_technology', 'TAG_telephone', 'TAG_telephony', 'TAG_television', 'TAG_template', 'TAG_templates', 'TAG_test', 'TAG_testing', 'TAG_text', 'TAG_theme', 'TAG_themes', 'TAG_theory', 'TAG_thinking', 'TAG_tickets', 'TAG_time', 'TAG_tipografia', 'TAG_tips', 'TAG_todo', 'TAG_tool', 'TAG_tools', 'TAG_top', 'TAG_toread', 'TAG_torrent', 'TAG_torrents', 'TAG_toys', 'TAG_tracking', 'TAG_trading', 'TAG_traffic', 'TAG_training', 'TAG_translation', 'TAG_transport', 'TAG_transportation', 'TAG_travel', 'TAG_trends', 'TAG_tricks', 'TAG_tshirt', 'TAG_tshirts', 'TAG_tutorial', 'TAG_tutorials', 'TAG_tv', 'TAG_tweak', 'TAG_tweaks', 'TAG_twitter', 'TAG_type', 'TAG_typo', 'TAG_typography', 'TAG_ubuntu', 'TAG_ui', 'TAG_uk', 'TAG_unix', 'TAG_unread', 'TAG_upload', 'TAG_urban', 'TAG_us', 'TAG_usa', 'TAG_usability', 'TAG_usb', 'TAG_useful', 'TAG_utilities', 'TAG_utility', 'TAG_vacation', 'TAG_vector', 'TAG_vegan', 'TAG_vegetarian', 'TAG_video', 'TAG_videogames', 'TAG_videos', 'TAG_vintage', 'TAG_viral', 'TAG_virtual', 'TAG_virtualization', 'TAG_vista', 'TAG_visual', 'TAG_visualization', 'TAG_visualstudio', 'TAG_voip', 'TAG_w3c', 'TAG_wallpaper', 'TAG_wallpapers', 'TAG_war', 'TAG_warez', 'TAG_web', 'TAG_web2.0', 'TAG_webapp', 'TAG_webcomic', 'TAG_webcomics', 'TAG_webdesign', 'TAG_webdev', 'TAG_webdevelopment', 'TAG_weblog', 'TAG_weblogs', 'TAG_webmaster', 'TAG_webradio', 'TAG_webserver', 'TAG_webservice', 'TAG_webservices', 'TAG_website', 'TAG_webstandards', 'TAG_wedding', 'TAG_weekly', 'TAG_weird', 'TAG_widget', 'TAG_widgets', 'TAG_wifi', 'TAG_wiki', 'TAG_wikipedia', 'TAG_wikis', 'TAG_windows', 'TAG_wireless', 'TAG_wishlist', 'TAG_women', 'TAG_word', 'TAG_wordpress', 'TAG_words', 'TAG_work', 'TAG_world', 'TAG_wp', 'TAG_writing', 'TAG_xhtml', 'TAG_xml', 'TAG_xp', 'TAG_yahoo', 'TAG_youtube']\n"
     ]
    }
   ],
   "source": [
    "dataset_to_mongodb(\"delicious\",\"train\")\n",
    "dataset_to_mongodb(\"delicious\",\"test\")\n",
    "label_to_mongodb(\"delicious\")"
   ]
  },
  {
   "cell_type": "code",
   "execution_count": null,
   "id": "c986c8d4",
   "metadata": {},
   "outputs": [],
   "source": []
  }
 ],
 "metadata": {
  "kernelspec": {
   "display_name": "Python 3 (ipykernel)",
   "language": "python",
   "name": "python3"
  },
  "language_info": {
   "codemirror_mode": {
    "name": "ipython",
    "version": 3
   },
   "file_extension": ".py",
   "mimetype": "text/x-python",
   "name": "python",
   "nbconvert_exporter": "python",
   "pygments_lexer": "ipython3",
   "version": "3.8.9"
  }
 },
 "nbformat": 4,
 "nbformat_minor": 5
}
